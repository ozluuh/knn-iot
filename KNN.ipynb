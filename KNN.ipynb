{
 "cells": [
  {
   "cell_type": "markdown",
   "metadata": {},
   "source": [
    "# KNN - Aplicado a Medicina\n",
    "\n",
    "Por Luís Paulino, 85398\n",
    "\n",
    "## Fontes\n",
    "\n",
    "https://www.komen.org/wp-content/uploads/How-Hormones-Affect-Breast-Cancer_Portuguese.pdf\n",
    "\n",
    "https://www.espacodevida.org.br/seu-espaco/clinico/o-que-grau-de-agressividade-do-cncer\n",
    "\n",
    "http://www.oncoguia.org.br/conteudo/linfonodos-e-cancer/6814/1/\n"
   ]
  },
  {
   "cell_type": "code",
   "execution_count": 23,
   "metadata": {},
   "outputs": [],
   "source": [
    "# Módulos (Bibliotecas)\n",
    "from math import sqrt"
   ]
  },
  {
   "cell_type": "code",
   "execution_count": 34,
   "metadata": {},
   "outputs": [],
   "source": [
    "# Definição das funções\n",
    "\n",
    "# Distância Euclidiana\n",
    "def calc_distance(item1, item2):\n",
    "    if type(item1) is not list or type(item2) is not list:\n",
    "        raise ValueError(f\"É esperado uma lista como argumento e foi passado {type(item1)} e {type(item2)}\")\n",
    "    if len(item1) != len(item2):\n",
    "        raise RuntimeError(f\"Comprimento das listas divergentes. Verifique os dados de entrada.\")\n",
    "\n",
    "    total = 0\n",
    "\n",
    "    for p in range(len(item1)):\n",
    "        total += (item1[p] - item2[p]) ** 2\n",
    "\n",
    "    return sqrt(total)\n",
    "\n",
    "# Escala normalizada\n",
    "# Dica: em caso de trabalhar com lista, definir o comprimento - 1\n",
    "def normalize_scale(x, v_max, v_min):\n",
    "    return (x - v_min) / (v_max - v_min)\n",
    "\n",
    "# Define a quantidade de casas decimais\n",
    "def round_default(value, pos = None):\n",
    "    if pos is None:\n",
    "        return value\n",
    "    \n",
    "    if pos == 0:\n",
    "        return round(value)\n",
    "    \n",
    "    return round(value, pos)"
   ]
  },
  {
   "cell_type": "code",
   "execution_count": 35,
   "metadata": {},
   "outputs": [
    {
     "data": {
      "text/plain": [
       "2.449489742783178"
      ]
     },
     "execution_count": 35,
     "metadata": {},
     "output_type": "execute_result"
    }
   ],
   "source": [
    "# Teste\n",
    "# calc_hypotenuse(4, 1.5)\n",
    "\n",
    "calc_distance([0,0,1], [1,1,3])"
   ]
  }
 ],
 "metadata": {
  "interpreter": {
   "hash": "e7370f93d1d0cde622a1f8e1c04877d8463912d04d973331ad4851f04de6915a"
  },
  "kernelspec": {
   "display_name": "Python 3.9.7 64-bit",
   "name": "python3"
  },
  "language_info": {
   "codemirror_mode": {
    "name": "ipython",
    "version": 3
   },
   "file_extension": ".py",
   "mimetype": "text/x-python",
   "name": "python",
   "nbconvert_exporter": "python",
   "pygments_lexer": "ipython3",
   "version": "3.9.7"
  },
  "orig_nbformat": 4
 },
 "nbformat": 4,
 "nbformat_minor": 2
}
